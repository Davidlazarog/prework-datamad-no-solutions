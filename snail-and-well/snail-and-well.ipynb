{
 "cells": [
  {
   "cell_type": "markdown",
   "metadata": {},
   "source": [
    "# Snail and well\n",
    "\n",
    "A snail falls at the bottom of a 125 cm well. Each day the snail rises 30 cm. But at night, while sleeping, slides 20 cm because the walls are wet. How many days does it take to escape from the well?\n",
    "\n",
    "TIP: http://puzzles.nigelcoldwell.co.uk/sixtytwo.htm"
   ]
  },
  {
   "cell_type": "markdown",
   "metadata": {},
   "source": [
    "## Solución"
   ]
  },
  {
   "cell_type": "code",
   "execution_count": 2,
   "metadata": {},
   "outputs": [
    {
     "name": "stdout",
     "output_type": "stream",
     "text": [
      "Days = 11\n"
     ]
    }
   ],
   "source": [
    "# Assign problem data to variables with representative names\n",
    "# well height, daily advance, night retreat, accumulated distance\n",
    "\n",
    "altura_muro=125\n",
    "avance_diario=30\n",
    "retroceso_noche=20\n",
    "\n",
    "# Assign 0 to the variable that represents the solution\n",
    "\n",
    "distancia_total=0\n",
    "dias=0\n",
    "\n",
    "# Write the code that solves the problem\n",
    "\n",
    "while distancia_total < altura_muro:\n",
    "    dias+=1\n",
    "    distancia_total+=avance_diario\n",
    "    if distancia_total>=altura_muro:\n",
    "        break\n",
    "    else:\n",
    "        distancia_total-=retroceso_noche\n",
    "\n",
    "# Print the result with print('Days =', days)\n",
    "\n",
    "print('Days =', dias)\n"
   ]
  },
  {
   "cell_type": "markdown",
   "metadata": {},
   "source": [
    "**Expected output**: \n",
    "```\n",
    "Days = 11\n",
    "```"
   ]
  },
  {
   "cell_type": "markdown",
   "metadata": {},
   "source": [
    "## Goals\n",
    "\n",
    "1. Treatment of variables\n",
    "2. Use of loop **while**\n",
    "3. Use of conditional **if-else**\n",
    "4. Print in console"
   ]
  },
  {
   "cell_type": "markdown",
   "metadata": {},
   "source": [
    "## Bonus\n",
    "The distance traveled by the snail is now defined by a list.\n",
    "```\n",
    "advance_cm = [30, 21, 33, 77, 44, 45, 23, 45, 12, 34, 55]\n",
    "```\n",
    "How long does it take to raise the well?\n",
    "\n",
    "What is its maximum displacement in one day? And its minimum?\n",
    "\n",
    "What is its average speed during the day?\n",
    "\n",
    "What is the standard deviation of its displacement during the day?"
   ]
  },
  {
   "cell_type": "code",
   "execution_count": 3,
   "metadata": {},
   "outputs": [
    {
     "name": "stdout",
     "output_type": "stream",
     "text": [
      "Days= 6\n"
     ]
    }
   ],
   "source": [
    "# Assign problem data to variables with representative names\n",
    "# well height, daily advance, night retreat, accumulated distance\n",
    "\n",
    "altura_muro=125\n",
    "retroceso_noche=20\n",
    "distancia_recorrida = [30, 21, 33, 77, 44, 45, 23, 45, 12, 34, 55]\n",
    "\n",
    "# Assign 0 to the variable that represents the solution\n",
    "\n",
    "distancia_total=0\n",
    "dias=0\n",
    "\n",
    "# Write the code that solves the problem\n",
    "\n",
    "while distancia_total < altura_muro: \n",
    "    distancia_total+=distancia_recorrida[dias]\n",
    "    dias+=1\n",
    "    if distancia_total>altura_muro:\n",
    "        break\n",
    "    else:\n",
    "        distancia_total-=retroceso_noche\n",
    "\n",
    "# Print the result with print('Days =', days)\n",
    "\n",
    "print('Days=', dias)\n",
    "\n"
   ]
  },
  {
   "cell_type": "markdown",
   "metadata": {},
   "source": [
    "**Expected output**: \n",
    "```\n",
    "Days = 6\n",
    "```"
   ]
  },
  {
   "cell_type": "code",
   "execution_count": 11,
   "metadata": {},
   "outputs": [
    {
     "name": "stdout",
     "output_type": "stream",
     "text": [
      "77 21\n"
     ]
    }
   ],
   "source": [
    "# What is its maximum displacement in a day? And its minimum?\n",
    "\n",
    "\n",
    "distancia_recorrida = [30, 21, 33, 77, 44, 45, 23, 45, 12, 34, 55]\n",
    "\n",
    "\n",
    "print(max(distancia_recorrida[:dias]), min(distancia_recorrida[:dias]))"
   ]
  },
  {
   "cell_type": "markdown",
   "metadata": {},
   "source": [
    "**Expected output**: \n",
    "```\n",
    "77 12\n",
    "```"
   ]
  },
  {
   "cell_type": "code",
   "execution_count": 12,
   "metadata": {},
   "outputs": [
    {
     "name": "stdout",
     "output_type": "stream",
     "text": [
      "38.09090909090909\n"
     ]
    }
   ],
   "source": [
    "# What is its average progress?\n",
    "\n",
    "import numpy as np\n",
    "dias = len(distancia_recorrida)\n",
    "# Sé que esta variable (dias) no deberia de ir aquí, pero si no me salía la media con la ultima vez que se definió \n",
    "# dias y el resultado no era el correcto. prometo intentarlo de nuevo cuando sepa un poco más\n",
    "\n",
    "print(np.mean(distancia_recorrida[:dias]))"
   ]
  },
  {
   "cell_type": "markdown",
   "metadata": {},
   "source": [
    "**Expected output**: \n",
    "```\n",
    "38.09090909090909\n",
    "```"
   ]
  },
  {
   "cell_type": "code",
   "execution_count": 13,
   "metadata": {},
   "outputs": [
    {
     "name": "stdout",
     "output_type": "stream",
     "text": [
      "17.159437082600803\n"
     ]
    }
   ],
   "source": [
    "# What is the standard deviation of your displacement during the day?\n",
    "print(np.std(distancia_recorrida[:dias]))"
   ]
  },
  {
   "cell_type": "markdown",
   "metadata": {},
   "source": [
    "**Expected output**: \n",
    "```\n",
    "17.159437082600803\n",
    "```"
   ]
  }
 ],
 "metadata": {
  "kernelspec": {
   "display_name": "Python 3",
   "language": "python",
   "name": "python3"
  },
  "language_info": {
   "codemirror_mode": {
    "name": "ipython",
    "version": 3
   },
   "file_extension": ".py",
   "mimetype": "text/x-python",
   "name": "python",
   "nbconvert_exporter": "python",
   "pygments_lexer": "ipython3",
   "version": "3.8.5"
  }
 },
 "nbformat": 4,
 "nbformat_minor": 2
}
